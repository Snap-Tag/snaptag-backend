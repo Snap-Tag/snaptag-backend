{
  "cells": [
    {
      "cell_type": "markdown",
      "metadata": {
        "id": "e0fvD5E4q4ev"
      },
      "source": [
        "### Imports"
      ]
    },
    {
      "cell_type": "code",
      "execution_count": 1,
      "metadata": {
        "colab": {
          "base_uri": "https://localhost:8080/"
        },
        "execution": {
          "iopub.execute_input": "2024-02-24T05:39:29.676505Z",
          "iopub.status.busy": "2024-02-24T05:39:29.675565Z",
          "iopub.status.idle": "2024-02-24T05:40:24.748759Z",
          "shell.execute_reply": "2024-02-24T05:40:24.747525Z",
          "shell.execute_reply.started": "2024-02-24T05:39:29.676470Z"
        },
        "id": "ybJdGnTLq4e0",
        "outputId": "affd1495-16bd-4f2b-b173-ff26a4d36cb7",
        "trusted": true
      },
      "outputs": [
        {
          "name": "stdout",
          "output_type": "stream",
          "text": [
            "Cloning into 'dataset'...\n",
            "remote: Enumerating objects: 817086, done.\u001b[K\n",
            "remote: Total 817086 (delta 0), reused 0 (delta 0), pack-reused 817086\u001b[K\n",
            "Receiving objects: 100% (817086/817086), 350.65 MiB | 25.53 MiB/s, done.\n",
            "Updating files: 100% (817064/817064), done.\n"
          ]
        }
      ],
      "source": [
        "!git clone https://github.com/snap-tag/dataset"
      ]
    },
    {
      "cell_type": "code",
      "execution_count": 6,
      "metadata": {
        "id": "q3mrECj-rzI4"
      },
      "outputs": [],
      "source": [
        "!rm -rf \"/content/dataset/.git\""
      ]
    },
    {
      "cell_type": "code",
      "execution_count": 7,
      "metadata": {
        "id": "NYGeZuEpq4e2",
        "trusted": true
      },
      "outputs": [],
      "source": [
        "from torch import (torch,nn)\n",
        "import torch.nn.functional as F\n",
        "from torch.utils.data import DataLoader, random_split\n",
        "from torchvision import transforms\n",
        "from torchvision.datasets import ImageFolder\n",
        "import matplotlib.pyplot as plt\n",
        "import numpy as np"
      ]
    },
    {
      "cell_type": "code",
      "execution_count": 8,
      "metadata": {
        "colab": {
          "base_uri": "https://localhost:8080/"
        },
        "execution": {
          "iopub.execute_input": "2024-02-24T05:40:30.584425Z",
          "iopub.status.busy": "2024-02-24T05:40:30.584080Z",
          "iopub.status.idle": "2024-02-24T05:40:30.589596Z",
          "shell.execute_reply": "2024-02-24T05:40:30.588675Z",
          "shell.execute_reply.started": "2024-02-24T05:40:30.584401Z"
        },
        "id": "CT-iIcL_q4e3",
        "outputId": "079677ec-b459-4ac0-8e81-43bf60d7e105",
        "trusted": true
      },
      "outputs": [
        {
          "name": "stdout",
          "output_type": "stream",
          "text": [
            "cuda\n"
          ]
        }
      ],
      "source": [
        "device = torch.device('cuda' if torch.cuda.is_available() else 'cpu')\n",
        "print(device.type)"
      ]
    },
    {
      "cell_type": "code",
      "execution_count": 9,
      "metadata": {
        "execution": {
          "iopub.execute_input": "2024-02-24T05:40:37.314148Z",
          "iopub.status.busy": "2024-02-24T05:40:37.313729Z",
          "iopub.status.idle": "2024-02-24T05:40:37.325524Z",
          "shell.execute_reply": "2024-02-24T05:40:37.324282Z",
          "shell.execute_reply.started": "2024-02-24T05:40:37.314117Z"
        },
        "id": "NYnYruyUq4e4",
        "trusted": true
      },
      "outputs": [],
      "source": [
        "IMAGE_HEIGHT = 28\n",
        "IMAGE_WIDTH = 28\n",
        "BATCH_SIZE = 32\n",
        "LEARNING_RATE = 0.001\n",
        "WEIGHT_DECAY = 1e-5\n",
        "NUM_EPOCHS = 10\n",
        "dataset_path = \"/content/dataset\"\n",
        "\n",
        "character_classes = {\n",
        "    0: '0',\n",
        "    1: '1',\n",
        "    2: '2',\n",
        "    3: '3',\n",
        "    4: '4',\n",
        "    5: '5',\n",
        "    6: '6',\n",
        "    7: '7',\n",
        "    8: '8',\n",
        "    9: '9',\n",
        "    10: 'A',\n",
        "    11: 'B',\n",
        "    12: 'C',\n",
        "    13: 'D',\n",
        "    14: 'E',\n",
        "    15: 'F',\n",
        "    16: 'G',\n",
        "    17: 'H',\n",
        "    18: 'I',\n",
        "    19: 'J',\n",
        "    20: 'K',\n",
        "    21: 'L',\n",
        "    22: 'M',\n",
        "    23: 'N',\n",
        "    24: 'O',\n",
        "    25: 'P',\n",
        "    26: 'Q',\n",
        "    27: 'R',\n",
        "    28: 'S',\n",
        "    29: 'T',\n",
        "    30: 'U',\n",
        "    31: 'V',\n",
        "    32: 'W',\n",
        "    33: 'X',\n",
        "    34: 'Y',\n",
        "    35: 'Z',\n",
        "    36: 'a',\n",
        "    37: 'b',\n",
        "    38: 'c',\n",
        "    39: 'd',\n",
        "    40: 'e',\n",
        "    41: 'f',\n",
        "    42: 'g',\n",
        "    43: 'h',\n",
        "    44: 'i',\n",
        "    45: 'j',\n",
        "    46: 'k',\n",
        "    47: 'l',\n",
        "    48: 'm',\n",
        "    49: 'n',\n",
        "    50: 'o',\n",
        "    51: 'p',\n",
        "    52: 'q',\n",
        "    53: 'r',\n",
        "    54: 's',\n",
        "    55: 't',\n",
        "    56: 'u',\n",
        "    57: 'v',\n",
        "    58: 'w',\n",
        "    59: 'x',\n",
        "    60: 'y',\n",
        "    61: 'z'\n",
        "}\n"
      ]
    },
    {
      "cell_type": "code",
      "execution_count": 20,
      "metadata": {
        "execution": {
          "iopub.execute_input": "2024-02-24T05:42:10.381439Z",
          "iopub.status.busy": "2024-02-24T05:42:10.380679Z",
          "iopub.status.idle": "2024-02-24T05:42:14.260810Z",
          "shell.execute_reply": "2024-02-24T05:42:14.259765Z",
          "shell.execute_reply.started": "2024-02-24T05:42:10.381389Z"
        },
        "id": "0_VASKZXq4e5",
        "trusted": true
      },
      "outputs": [],
      "source": [
        "transform = transforms.Compose([\n",
        "    transforms.Resize((IMAGE_HEIGHT,IMAGE_WIDTH)),\n",
        "    transforms.ToTensor(),\n",
        "    transforms.Grayscale()\n",
        "])\n",
        "\n",
        "dataset = ImageFolder(root=dataset_path, transform=transform)\n",
        "\n",
        "train_size = int(0.8 * len(dataset))\n",
        "test_size = len(dataset) - train_size\n",
        "\n",
        "train_set, test_set = random_split(dataset,[train_size,test_size])\n",
        "\n",
        "train_dataloader = DataLoader(train_set, batch_size=BATCH_SIZE, shuffle=True)\n",
        "test_dataloader = DataLoader(test_set, batch_size=BATCH_SIZE, shuffle=False)\n",
        "\n",
        "dataloaders = {\"train\": train_dataloader, \"test\": test_dataloader}"
      ]
    },
    {
      "cell_type": "code",
      "execution_count": 21,
      "metadata": {
        "colab": {
          "base_uri": "https://localhost:8080/"
        },
        "execution": {
          "iopub.execute_input": "2024-02-24T05:43:53.248585Z",
          "iopub.status.busy": "2024-02-24T05:43:53.247939Z",
          "iopub.status.idle": "2024-02-24T05:43:53.253548Z",
          "shell.execute_reply": "2024-02-24T05:43:53.252520Z",
          "shell.execute_reply.started": "2024-02-24T05:43:53.248553Z"
        },
        "id": "5bzApBJ4q4e6",
        "outputId": "a23bbd01-4b08-43c6-9658-5c5e1711cd66",
        "trusted": true
      },
      "outputs": [
        {
          "name": "stdout",
          "output_type": "stream",
          "text": [
            "Total classes = 62\n",
            "Classes = ['0', '1', '10', '11', '12', '13', '14', '15', '16', '17', '18', '19', '2', '20', '21', '22', '23', '24', '25', '26', '27', '28', '29', '3', '30', '31', '32', '33', '34', '35', '36', '37', '38', '39', '4', '40', '41', '42', '43', '44', '45', '46', '47', '48', '49', '5', '50', '51', '52', '53', '54', '55', '56', '57', '58', '59', '6', '60', '61', '7', '8', '9']\n"
          ]
        }
      ],
      "source": [
        "classes = dataset.classes\n",
        "no_of_classes = len(classes)\n",
        "print(f\"Total classes = {no_of_classes}\\nClasses = {classes}\")"
      ]
    },
    {
      "cell_type": "code",
      "execution_count": 22,
      "metadata": {
        "execution": {
          "iopub.execute_input": "2024-02-24T05:44:22.897497Z",
          "iopub.status.busy": "2024-02-24T05:44:22.896795Z",
          "iopub.status.idle": "2024-02-24T05:44:22.903600Z",
          "shell.execute_reply": "2024-02-24T05:44:22.902670Z",
          "shell.execute_reply.started": "2024-02-24T05:44:22.897455Z"
        },
        "id": "UvKZpG_8q4e7",
        "trusted": true
      },
      "outputs": [],
      "source": [
        "def imshow(ax, img, label):\n",
        "    img = img / 2 + 0.5  # Unnormalize\n",
        "    npimg = img.numpy()\n",
        "    ax.imshow(np.transpose(npimg, (1, 2, 0)))\n",
        "    ax.set_title(character_classes[int(classes[label])])\n",
        "    ax.axis('off')"
      ]
    },
    {
      "cell_type": "code",
      "execution_count": 24,
      "metadata": {
        "colab": {
          "base_uri": "https://localhost:8080/",
          "height": 1000
        },
        "execution": {
          "iopub.execute_input": "2024-02-24T05:44:27.693258Z",
          "iopub.status.busy": "2024-02-24T05:44:27.692869Z",
          "iopub.status.idle": "2024-02-24T05:44:28.570613Z",
          "shell.execute_reply": "2024-02-24T05:44:28.569727Z",
          "shell.execute_reply.started": "2024-02-24T05:44:27.693230Z"
        },
        "id": "ueOlLZAFq4e8",
        "outputId": "f82f9d1f-e9a8-4db4-901d-74aeb0b36dfe",
        "trusted": true
      },
      "outputs": [
        {
          "data": {
            "image/png": "[encoded data removed]",
            "text/plain": [
              "<Figure size 1200x1200 with 9 Axes>"
            ]
          },
          "metadata": {},
          "output_type": "display_data"
        }
      ],
      "source": [
        "# Get some random training images\n",
        "data_iter = iter(train_dataloader)\n",
        "images, labels = next(data_iter)\n",
        "\n",
        "# Plot the images in a grid\n",
        "fig, axes = plt.subplots(3, 3, figsize=(12, 12))\n",
        "fig.suptitle('Random Images from Training Data', fontsize=16)\n",
        "\n",
        "for i in range(3):\n",
        "    for j in range(3):\n",
        "        index = np.random.randint(BATCH_SIZE)\n",
        "        ax = axes[i, j]\n",
        "        imshow(ax, images[index], labels[index])\n",
        "        ax.axis('off')\n",
        "\n",
        "plt.show()"
      ]
    },
    {
      "cell_type": "markdown",
      "metadata": {
        "id": "uNZPlsP-q4e-"
      },
      "source": [
        "### Defining Model"
      ]
    },
    {
      "cell_type": "code",
      "execution_count": 28,
      "metadata": {
        "execution": {
          "iopub.execute_input": "2024-02-24T05:44:45.917059Z",
          "iopub.status.busy": "2024-02-24T05:44:45.916424Z",
          "iopub.status.idle": "2024-02-24T05:44:45.929463Z",
          "shell.execute_reply": "2024-02-24T05:44:45.928334Z",
          "shell.execute_reply.started": "2024-02-24T05:44:45.917014Z"
        },
        "id": "B7_7M2-Mq4e-",
        "trusted": true
      },
      "outputs": [],
      "source": [
        "class CNNModel(nn.Module):\n",
        "    def __init__(self, num_classes):\n",
        "        super(CNNModel, self).__init__()\n",
        "\n",
        "        # parameters for Convolutional Layers\n",
        "        filter_dim = 3\n",
        "        in_channels = [1, 64, 56]\n",
        "        out_channels = [64, 56, 40]\n",
        "        pool_dim = 2\n",
        "\n",
        "        # initializing all the layers\n",
        "        self.c1 = nn.Conv2d(in_channels=in_channels[0], out_channels=out_channels[0], kernel_size=filter_dim, padding=\"same\")\n",
        "        self.c2 = nn.Conv2d(in_channels=in_channels[1], out_channels=out_channels[1], kernel_size=filter_dim, padding=\"same\")\n",
        "        self.c3 = nn.Conv2d(in_channels=in_channels[2], out_channels=out_channels[2], kernel_size=filter_dim, padding=\"same\")\n",
        "\n",
        "        self.batch_norm1 = nn.BatchNorm2d(out_channels[0])\n",
        "        self.batch_norm2 = nn.BatchNorm2d(out_channels[1])\n",
        "        self.batch_norm3 = nn.BatchNorm2d(out_channels[2])\n",
        "\n",
        "        self.dropout = nn.Dropout(0.5)\n",
        "\n",
        "        self.relu = nn.ReLU()\n",
        "\n",
        "        self.max_pool = nn.MaxPool2d(kernel_size=pool_dim)\n",
        "\n",
        "        self.fc = nn.Linear(out_channels[2] * 3 * 3, num_classes)\n",
        "\n",
        "        self.softmax = nn.Softmax(dim=1)\n",
        "\n",
        "\n",
        "    def forward(self, X):\n",
        "        x = self.c1(X)\n",
        "        x = self.batch_norm1(x)\n",
        "        x = self.relu(x)\n",
        "        x = self.max_pool(x)\n",
        "\n",
        "        x = self.c2(x)\n",
        "        x = self.batch_norm2(x)\n",
        "        x = self.relu(x)\n",
        "        x = self.max_pool(x)\n",
        "\n",
        "        x = self.c3(x)\n",
        "        x = self.batch_norm3(x)\n",
        "        x = self.relu(x)\n",
        "        x = self.max_pool(x)\n",
        "\n",
        "        x = x.view(x.size(0), -1)\n",
        "\n",
        "        x = self.fc(x)\n",
        "        x = self.softmax(x)\n",
        "\n",
        "        return x\n"
      ]
    },
    {
      "cell_type": "code",
      "execution_count": 29,
      "metadata": {
        "colab": {
          "base_uri": "https://localhost:8080/"
        },
        "execution": {
          "iopub.execute_input": "2024-02-24T05:44:46.579859Z",
          "iopub.status.busy": "2024-02-24T05:44:46.579480Z",
          "iopub.status.idle": "2024-02-24T05:44:46.588905Z",
          "shell.execute_reply": "2024-02-24T05:44:46.587768Z",
          "shell.execute_reply.started": "2024-02-24T05:44:46.579829Z"
        },
        "id": "tyu05vaBq4e_",
        "outputId": "4bd74db0-1f6c-48ef-870b-e2a23e40fcb7",
        "trusted": true
      },
      "outputs": [
        {
          "name": "stdout",
          "output_type": "stream",
          "text": [
            "<bound method Module.parameters of CNNModel(\n",
            "  (c1): Conv2d(1, 64, kernel_size=(3, 3), stride=(1, 1), padding=same)\n",
            "  (c2): Conv2d(64, 56, kernel_size=(3, 3), stride=(1, 1), padding=same)\n",
            "  (c3): Conv2d(56, 40, kernel_size=(3, 3), stride=(1, 1), padding=same)\n",
            "  (batch_norm1): BatchNorm2d(64, eps=1e-05, momentum=0.1, affine=True, track_running_stats=True)\n",
            "  (batch_norm2): BatchNorm2d(56, eps=1e-05, momentum=0.1, affine=True, track_running_stats=True)\n",
            "  (batch_norm3): BatchNorm2d(40, eps=1e-05, momentum=0.1, affine=True, track_running_stats=True)\n",
            "  (dropout): Dropout(p=0.5, inplace=False)\n",
            "  (relu): ReLU()\n",
            "  (max_pool): MaxPool2d(kernel_size=2, stride=2, padding=0, dilation=1, ceil_mode=False)\n",
            "  (fc): Linear(in_features=360, out_features=62, bias=True)\n",
            "  (softmax): Softmax(dim=1)\n",
            ")>\n"
          ]
        }
      ],
      "source": [
        "model = CNNModel(num_classes=no_of_classes).to(device)\n",
        "print(model.parameters)"
      ]
    },
    {
      "cell_type": "code",
      "execution_count": 30,
      "metadata": {
        "execution": {
          "iopub.execute_input": "2024-02-24T05:44:47.309333Z",
          "iopub.status.busy": "2024-02-24T05:44:47.308926Z",
          "iopub.status.idle": "2024-02-24T05:44:47.315158Z",
          "shell.execute_reply": "2024-02-24T05:44:47.314069Z",
          "shell.execute_reply.started": "2024-02-24T05:44:47.309303Z"
        },
        "id": "LtopCTBuq4fA",
        "trusted": true
      },
      "outputs": [],
      "source": [
        "criterion = nn.CrossEntropyLoss().to(device)\n",
        "optimizer = torch.optim.Adam(model.parameters(),lr=LEARNING_RATE, weight_decay=WEIGHT_DECAY)"
      ]
    },
    {
      "cell_type": "code",
      "execution_count": 31,
      "metadata": {
        "colab": {
          "base_uri": "https://localhost:8080/"
        },
        "execution": {
          "iopub.execute_input": "2024-02-24T05:44:50.434137Z",
          "iopub.status.busy": "2024-02-24T05:44:50.433536Z",
          "iopub.status.idle": "2024-02-24T05:45:15.978685Z",
          "shell.execute_reply": "2024-02-24T05:45:15.977167Z",
          "shell.execute_reply.started": "2024-02-24T05:44:50.434109Z"
        },
        "id": "NZj7Eby1q4fA",
        "outputId": "58b6a61c-6ad3-4f7b-fc87-03de65658dbc",
        "trusted": true
      },
      "outputs": [
        {
          "name": "stdout",
          "output_type": "stream",
          "text": [
            "Epoch 1/10\n",
            "------------------------------\n",
            "Train Loss: 3.4270 Acc: 0.7303\n",
            "Test Loss: 3.3778 Acc: 0.7778\n",
            "Epoch 2/10\n",
            "------------------------------\n",
            "Train Loss: 3.3662 Acc: 0.7892\n",
            "Test Loss: 3.3602 Acc: 0.7949\n",
            "Epoch 3/10\n",
            "------------------------------\n",
            "Train Loss: 3.3589 Acc: 0.7963\n",
            "Test Loss: 3.3471 Acc: 0.8081\n",
            "Epoch 4/10\n",
            "------------------------------\n",
            "Train Loss: 3.3458 Acc: 0.8094\n",
            "Test Loss: 3.3431 Acc: 0.8120\n",
            "Epoch 5/10\n",
            "------------------------------\n",
            "Train Loss: 3.3443 Acc: 0.8108\n",
            "Test Loss: 3.3441 Acc: 0.8110\n",
            "Epoch 6/10\n",
            "------------------------------\n",
            "Train Loss: 3.3436 Acc: 0.8115\n",
            "Test Loss: 3.3443 Acc: 0.8109\n",
            "Epoch 7/10\n",
            "------------------------------\n",
            "Train Loss: 3.3425 Acc: 0.8126\n",
            "Test Loss: 3.3434 Acc: 0.8116\n",
            "Epoch 8/10\n",
            "------------------------------\n",
            "Train Loss: 3.3424 Acc: 0.8128\n",
            "Test Loss: 3.3423 Acc: 0.8127\n",
            "Epoch 9/10\n",
            "------------------------------\n",
            "Train Loss: 3.3419 Acc: 0.8133\n",
            "Test Loss: 3.3432 Acc: 0.8117\n",
            "Epoch 10/10\n",
            "------------------------------\n",
            "Train Loss: 3.3416 Acc: 0.8135\n",
            "Test Loss: 3.3430 Acc: 0.8120\n"
          ]
        }
      ],
      "source": [
        "# Initialize lists to store training and validation metrics\n",
        "train_acc_history = []\n",
        "val_acc_history = []\n",
        "train_loss_history = []\n",
        "val_loss_history = []\n",
        "\n",
        "best_val_acc = 0.0\n",
        "\n",
        "# Training loop\n",
        "for epoch in range(NUM_EPOCHS):\n",
        "    print(f'Epoch {epoch + 1}/{NUM_EPOCHS}')\n",
        "    print('-' * 30)\n",
        "\n",
        "    for phase in ['train', 'test']:\n",
        "        if phase == 'train':\n",
        "            model.train()\n",
        "        else:\n",
        "            model.eval()\n",
        "\n",
        "        running_loss = 0.0\n",
        "        corrects = 0\n",
        "        total_samples = 0\n",
        "\n",
        "        for inputs, labels in dataloaders[phase]:\n",
        "            inputs, labels = inputs.to(device), labels.to(device)\n",
        "\n",
        "            with torch.set_grad_enabled(phase == 'train'):\n",
        "                optimizer.zero_grad()\n",
        "                outputs = model(inputs)\n",
        "                loss = criterion(outputs, labels)\n",
        "\n",
        "                if phase == 'train':\n",
        "                    loss.backward()\n",
        "                    optimizer.step()\n",
        "\n",
        "            running_loss += loss.item() * inputs.size(0)\n",
        "            _, preds = torch.max(outputs, 1)\n",
        "            corrects += torch.sum(preds == labels.data)\n",
        "            total_samples += labels.size(0)\n",
        "\n",
        "        epoch_loss = running_loss / total_samples\n",
        "        epoch_acc = corrects.double() / total_samples\n",
        "\n",
        "        print(f'{phase.capitalize()} Loss: {epoch_loss:.4f} Acc: {epoch_acc:.4f}')\n",
        "\n",
        "        # Store metrics in history lists\n",
        "        if phase == 'train':\n",
        "            train_acc_history.append(epoch_acc)\n",
        "            train_loss_history.append(epoch_loss)\n",
        "        else:\n",
        "            val_acc_history.append(epoch_acc)\n",
        "            val_loss_history.append(epoch_loss)\n",
        "\n",
        "        # Save the model if it has the best validation accuracy\n",
        "        if epoch_acc > best_val_acc:\n",
        "            best_val_acc = epoch_acc\n",
        "            best_model_weights = model.state_dict()\n"
      ]
    },
    {
      "cell_type": "code",
      "execution_count": 32,
      "metadata": {
        "id": "k3TJa7M7q4fB"
      },
      "outputs": [],
      "source": [
        "torch.save(best_model_weights, 'model.pth')"
      ]
    },
    {
      "cell_type": "code",
      "execution_count": 35,
      "metadata": {
        "colab": {
          "base_uri": "https://localhost:8080/",
          "height": 699
        },
        "id": "_Qg1cQkuAJ-V",
        "outputId": "e01d6cf1-e300-42dd-b4ba-fdc13bd1d1c5"
      },
      "outputs": [
        {
          "data": {
            "image/png": "[encoded data removed]",
            "text/plain": [
              "<Figure size 800x800 with 2 Axes>"
            ]
          },
          "metadata": {},
          "output_type": "display_data"
        }
      ],
      "source": [
        "acc = [a.to('cpu') for a in train_acc_history]\n",
        "val_acc = [v.to('cpu') for v in val_acc_history]\n",
        "\n",
        "loss = train_loss_history[:]\n",
        "val_loss = val_loss_history[:]\n",
        "\n",
        "epochs_range = list(range(NUM_EPOCHS))\n",
        "\n",
        "plt.figure(figsize=(8, 8))\n",
        "plt.subplot(1, 2, 1)\n",
        "plt.plot(epochs_range, acc, label='Training Accuracy')\n",
        "plt.plot(epochs_range, val_acc, label='Validation Accuracy')\n",
        "plt.legend(loc='lower right')\n",
        "plt.title('Training and Validation Accuracy')\n",
        "\n",
        "plt.subplot(1, 2, 2)\n",
        "plt.plot(epochs_range, loss, label='Training Loss')\n",
        "plt.plot(epochs_range, val_loss, label='Validation Loss')\n",
        "plt.legend(loc='upper right')\n",
        "plt.title('Training and Validation Loss')\n",
        "plt.show()"
      ]
    }
  ],
  "metadata": {
    "accelerator": "GPU",
    "colab": {
      "gpuType": "T4",
      "provenance": []
    },
    "kaggle": {
      "accelerator": "nvidiaTeslaT4",
      "dataSources": [],
      "dockerImageVersionId": 30648,
      "isGpuEnabled": true,
      "isInternetEnabled": true,
      "language": "python",
      "sourceType": "notebook"
    },
    "kernelspec": {
      "display_name": "Python 3",
      "name": "python3"
    },
    "language_info": {
      "codemirror_mode": {
        "name": "ipython",
        "version": 3
      },
      "file_extension": ".py",
      "mimetype": "text/x-python",
      "name": "python",
      "nbconvert_exporter": "python",
      "pygments_lexer": "ipython3",
      "version": "3.9.6"
    }
  },
  "nbformat": 4,
  "nbformat_minor": 0
}
